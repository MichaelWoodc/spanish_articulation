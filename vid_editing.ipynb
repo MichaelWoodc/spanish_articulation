{
 "cells": [
  {
   "cell_type": "code",
   "execution_count": 1,
   "id": "cebcdf17",
   "metadata": {},
   "outputs": [
    {
     "data": {
      "application/vnd.jupyter.widget-view+json": {
       "model_id": "928909f276bf485c81c6766273e1ad1d",
       "version_major": 2,
       "version_minor": 0
      },
      "text/plain": [
       "VBox(children=(HTML(value='<h3>MP4 File Finder</h3>'), Text(value='c:\\\\Users\\\\Michael\\\\OneDrive - Georgia Sout…"
      ]
     },
     "metadata": {},
     "output_type": "display_data"
    }
   ],
   "source": [
    "import os\n",
    "import glob\n",
    "from IPython.display import display\n",
    "import ipywidgets as widgets\n",
    "\n",
    "def find_mp4_files(directory):\n",
    "    \"\"\"\n",
    "    Recursively find all MP4 files in the specified directory and its subdirectories.\n",
    "    \"\"\"\n",
    "    search_pattern = os.path.join(directory, '**', '*.mp4')\n",
    "    mp4_files = glob.glob(search_pattern, recursive=True)\n",
    "    return mp4_files\n",
    "\n",
    "# Create UI elements\n",
    "directory_input = widgets.Text(\n",
    "    value=os.getcwd(),\n",
    "    placeholder='Enter directory path',\n",
    "    description='Directory:',\n",
    "    layout=widgets.Layout(width='80%')\n",
    ")\n",
    "\n",
    "search_button = widgets.Button(\n",
    "    description='Search for MP4 Files',\n",
    "    button_style='success'\n",
    ")\n",
    "\n",
    "output_area = widgets.Output()\n",
    "\n",
    "def on_search_button_clicked(b):\n",
    "    with output_area:\n",
    "        output_area.clear_output()\n",
    "        directory = directory_input.value.strip()\n",
    "        \n",
    "        if not os.path.isdir(directory):\n",
    "            print(f\"Error: The directory '{directory}' does not exist.\")\n",
    "            return\n",
    "            \n",
    "        mp4_files = find_mp4_files(directory)\n",
    "        \n",
    "        if mp4_files:\n",
    "            print(f\"Found {len(mp4_files)} MP4 file(s):\\n\")\n",
    "            for i, file_path in enumerate(mp4_files, 1):\n",
    "                print(f\"{i}. {file_path}\")\n",
    "                \n",
    "            # Create a dropdown for file selection\n",
    "            file_options = [(os.path.basename(f), f) for f in mp4_files]\n",
    "            file_selector = widgets.Dropdown(\n",
    "                options=file_options,\n",
    "                description='Select file:',\n",
    "                layout=widgets.Layout(width='80%')\n",
    "            )\n",
    "            \n",
    "            display(file_selector)\n",
    "            \n",
    "        else:\n",
    "            print(\"No MP4 files found in the specified directory.\")\n",
    "\n",
    "search_button.on_click(on_search_button_clicked)\n",
    "\n",
    "# Display the UI\n",
    "display(widgets.VBox([\n",
    "    widgets.HTML(\"<h3>MP4 File Finder</h3>\"),\n",
    "    directory_input,\n",
    "    search_button,\n",
    "    output_area\n",
    "]))"
   ]
  }
 ],
 "metadata": {
  "kernelspec": {
   "display_name": "Python 3",
   "language": "python",
   "name": "python3"
  },
  "language_info": {
   "codemirror_mode": {
    "name": "ipython",
    "version": 3
   },
   "file_extension": ".py",
   "mimetype": "text/x-python",
   "name": "python",
   "nbconvert_exporter": "python",
   "pygments_lexer": "ipython3",
   "version": "3.10.8"
  }
 },
 "nbformat": 4,
 "nbformat_minor": 5
}
